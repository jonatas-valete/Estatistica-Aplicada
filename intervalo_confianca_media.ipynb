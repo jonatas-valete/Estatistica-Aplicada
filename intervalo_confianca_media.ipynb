{
 "cells": [
  {
   "cell_type": "code",
   "execution_count": 1,
   "id": "2c3a3bf7-1d00-41ea-a89b-80cbf3c9b4d8",
   "metadata": {},
   "outputs": [],
   "source": [
    "import numpy as np\n",
    "from interconfmedia import InterConfMedia as icm"
   ]
  },
  {
   "cell_type": "code",
   "execution_count": 2,
   "id": "933c1113-2731-4585-ac2d-86e99e498b31",
   "metadata": {},
   "outputs": [],
   "source": [
    "#import numpy as np\n",
    "class InterConfMedia:\n",
    "    \"calcula intervalo de confiança para média\"\n",
    "    \n",
    "    def __init__(self, amostra=[]):\n",
    "        #self.s = s\n",
    "        self.v_media = 0\n",
    "        self.v_dvp = 0\n",
    "        self.amostra = amostra\n",
    "        self.e = 0\n",
    "        self.c = 0\n",
    "\n",
    "    def dvp(self):\n",
    "        self.v_dvp = np.std(self.amostra)\n",
    "        return self.v_dvp\n",
    "        \n",
    "    def media(self):\n",
    "        self.v_media = np.mean(self.amostra)\n",
    "        return self.v_media\n",
    "\n",
    "    def margemErro(self, zc=1.96):\n",
    "        s = self.v_dvp\n",
    "        n = len(self.amostra)\n",
    "        e = zc*(s/(n**0.5))\n",
    "        self.e = e\n",
    "        return self.e\n",
    "\n",
    "    def interConf(self):\n",
    "        extremo_equerdo = self.v_media - self.e\n",
    "        extremo_direito = self.v_media + self.e\n",
    "        print(extremo_equerdo, self.v_media, extremo_direito)\n",
    "\n",
    "    def tamAmostra(self, zc=0, s=0, e=0):\n",
    "        n = (zc*s)/e\n",
    "        return n*n"
   ]
  },
  {
   "cell_type": "code",
   "execution_count": 3,
   "id": "45f18c79-b165-4ccb-ac71-d947ed1c3ee0",
   "metadata": {},
   "outputs": [],
   "source": [
    "imc = icm(amostra=list(range(150)))"
   ]
  },
  {
   "cell_type": "code",
   "execution_count": 4,
   "id": "2f1f91fb-8c72-4df0-a9e8-3de77aa6f52b",
   "metadata": {},
   "outputs": [],
   "source": [
    "lista = [16,9,14,11,17,12,99,18,13,12,5,9,17,6,11,17,18,20,6,14,7,11,12,12,5,11,18,6,4,13]"
   ]
  },
  {
   "cell_type": "code",
   "execution_count": 5,
   "id": "eb91f13e-bbd8-4c0a-8ae2-0f6323fb836f",
   "metadata": {},
   "outputs": [],
   "source": [
    "icm = icm(amostra=lista)"
   ]
  },
  {
   "cell_type": "code",
   "execution_count": 6,
   "id": "cac04f40-c1f6-4f34-b301-60c0db79ae1e",
   "metadata": {},
   "outputs": [
    {
     "data": {
      "text/plain": [
       "np.float64(14.766666666666667)"
      ]
     },
     "execution_count": 6,
     "metadata": {},
     "output_type": "execute_result"
    }
   ],
   "source": [
    "icm.media()"
   ]
  },
  {
   "cell_type": "code",
   "execution_count": 7,
   "id": "30cca4bd-99b9-4d2d-9529-dbcb57d6eaca",
   "metadata": {},
   "outputs": [
    {
     "data": {
      "text/plain": [
       "np.float64(16.257681944921366)"
      ]
     },
     "execution_count": 7,
     "metadata": {},
     "output_type": "execute_result"
    }
   ],
   "source": [
    "icm.dvp()"
   ]
  },
  {
   "cell_type": "code",
   "execution_count": 8,
   "id": "fb576694-012a-4400-9515-b4225f881018",
   "metadata": {},
   "outputs": [
    {
     "data": {
      "text/plain": [
       "np.float64(14.766666666666667)"
      ]
     },
     "execution_count": 8,
     "metadata": {},
     "output_type": "execute_result"
    }
   ],
   "source": [
    "icm.v_media"
   ]
  },
  {
   "cell_type": "code",
   "execution_count": 9,
   "id": "55a84a50-1501-4ec2-a834-77336ec8756c",
   "metadata": {},
   "outputs": [
    {
     "data": {
      "text/plain": [
       "np.float64(5.817736767532224)"
      ]
     },
     "execution_count": 9,
     "metadata": {},
     "output_type": "execute_result"
    }
   ],
   "source": [
    "icm.margemErro()"
   ]
  },
  {
   "cell_type": "code",
   "execution_count": 10,
   "id": "94cd7938-8022-4fe1-b8db-1fcc5ad1a9cb",
   "metadata": {},
   "outputs": [
    {
     "name": "stdout",
     "output_type": "stream",
     "text": [
      "8.948929899134445 14.766666666666667 20.58440343419889\n"
     ]
    }
   ],
   "source": [
    "icm.interConf()"
   ]
  },
  {
   "cell_type": "code",
   "execution_count": null,
   "id": "a879da05-f5eb-407b-9d65-48f582b8ec15",
   "metadata": {},
   "outputs": [],
   "source": []
  },
  {
   "cell_type": "code",
   "execution_count": 11,
   "id": "7ce083cd-4b87-4187-8987-5ebf0b1ea37a",
   "metadata": {},
   "outputs": [
    {
     "data": {
      "text/plain": [
       "'\\nlivro: estatistica aplicada, pagina 258 resolução dos exercicios 15 ao 18\\n'"
      ]
     },
     "execution_count": 11,
     "metadata": {},
     "output_type": "execute_result"
    }
   ],
   "source": [
    "\"\"\"\n",
    "livro: estatistica aplicada, pagina 258 resolução dos exercicios 15 ao 18\n",
    "\"\"\""
   ]
  },
  {
   "cell_type": "code",
   "execution_count": 12,
   "id": "6186171c-306f-4853-8b7a-d0e24fe55354",
   "metadata": {},
   "outputs": [],
   "source": [
    "# 15\n",
    "\n",
    "amostra = list(range(36))\n",
    "icm_15 = InterConfMedia(amostra=amostra)"
   ]
  },
  {
   "cell_type": "code",
   "execution_count": 13,
   "id": "0678fd4a-5d1e-4ad0-9895-bbc4e7f3f24b",
   "metadata": {},
   "outputs": [
    {
     "data": {
      "text/plain": [
       "2.5"
      ]
     },
     "execution_count": 13,
     "metadata": {},
     "output_type": "execute_result"
    }
   ],
   "source": [
    "icm.v_dvp = 2.5\n",
    "icm.v_dvp"
   ]
  },
  {
   "cell_type": "code",
   "execution_count": null,
   "id": "731fb574-0a5c-4588-92f5-c5f11b42f830",
   "metadata": {},
   "outputs": [],
   "source": []
  },
  {
   "cell_type": "code",
   "execution_count": 14,
   "id": "024dc3cf-4995-4380-95c5-d305cbb4e1a7",
   "metadata": {},
   "outputs": [
    {
     "data": {
      "text/plain": [
       "0.7508363392466653"
      ]
     },
     "execution_count": 14,
     "metadata": {},
     "output_type": "execute_result"
    }
   ],
   "source": [
    "icm.margemErro(zc=1.645)"
   ]
  },
  {
   "cell_type": "code",
   "execution_count": 15,
   "id": "87ac8cbc-a90e-47ed-bcf1-997db6218cb9",
   "metadata": {},
   "outputs": [],
   "source": [
    "# 16\n",
    "\n",
    "amostra = list(range(60))\n",
    "icm_16 = InterConfMedia(amostra)"
   ]
  },
  {
   "cell_type": "code",
   "execution_count": 16,
   "id": "f9879f58-184c-4061-b405-a8915eb34213",
   "metadata": {},
   "outputs": [
    {
     "data": {
      "text/plain": [
       "3"
      ]
     },
     "execution_count": 16,
     "metadata": {},
     "output_type": "execute_result"
    }
   ],
   "source": [
    "icm_16.v_dvp = 3\n",
    "icm_16.v_dvp"
   ]
  },
  {
   "cell_type": "code",
   "execution_count": 17,
   "id": "88c0ff84-8cc9-4722-88ec-16c63bf73ac5",
   "metadata": {},
   "outputs": [
    {
     "data": {
      "text/plain": [
       "0.7591047358566537"
      ]
     },
     "execution_count": 17,
     "metadata": {},
     "output_type": "execute_result"
    }
   ],
   "source": [
    "icm_16.margemErro(zc=1.96)"
   ]
  },
  {
   "cell_type": "code",
   "execution_count": null,
   "id": "14bd0fd9-1e75-4c1b-ab9f-711b2bc11714",
   "metadata": {},
   "outputs": [],
   "source": []
  },
  {
   "cell_type": "code",
   "execution_count": 18,
   "id": "2dfc7b18-714d-411a-b89a-47d1e09ddf39",
   "metadata": {},
   "outputs": [],
   "source": [
    "# 17\n",
    "\n",
    "amostra = list(range(75))\n",
    "icm_17 = InterConfMedia(amostra)"
   ]
  },
  {
   "cell_type": "code",
   "execution_count": 19,
   "id": "b464fe31-3e6e-453b-920b-bb98e45c0df7",
   "metadata": {},
   "outputs": [],
   "source": [
    "icm_17.v_dvp = 1.3"
   ]
  },
  {
   "cell_type": "code",
   "execution_count": 20,
   "id": "64f2f7c1-23b2-4d6c-8080-8415a76e7d49",
   "metadata": {},
   "outputs": [
    {
     "data": {
      "text/plain": [
       "0.19214216958630745"
      ]
     },
     "execution_count": 20,
     "metadata": {},
     "output_type": "execute_result"
    }
   ],
   "source": [
    "icm_17.margemErro(zc=1.28)"
   ]
  },
  {
   "cell_type": "code",
   "execution_count": 21,
   "id": "0ac30b7d-a743-4b5e-8866-e3ee41ea9c1e",
   "metadata": {},
   "outputs": [],
   "source": [
    "# 18\n",
    "\n",
    "amostra = list(range(100))\n",
    "icm_18 = InterConfMedia(amostra)"
   ]
  },
  {
   "cell_type": "code",
   "execution_count": 22,
   "id": "52b75af7-35c5-4fb2-8411-e0a34a214e78",
   "metadata": {},
   "outputs": [],
   "source": [
    "icm_18.v_dvp = 4.6"
   ]
  },
  {
   "cell_type": "code",
   "execution_count": 23,
   "id": "8d68b0f9-425c-43c7-b3d4-97b59a3ba92f",
   "metadata": {},
   "outputs": [
    {
     "data": {
      "text/plain": [
       "1.0041580220928046"
      ]
     },
     "execution_count": 23,
     "metadata": {},
     "output_type": "execute_result"
    }
   ],
   "source": [
    "icm.margemErro(zc=2.2)"
   ]
  },
  {
   "cell_type": "code",
   "execution_count": 24,
   "id": "f9778403-b910-4607-bc8e-206959f97b18",
   "metadata": {},
   "outputs": [],
   "source": [
    "# exercicios do 19 ao 22"
   ]
  },
  {
   "cell_type": "code",
   "execution_count": 25,
   "id": "f5976ef8-d5b5-4b09-882e-601d6051be8c",
   "metadata": {},
   "outputs": [],
   "source": [
    "# 19\n",
    "amostra_50 = list(range(50))\n",
    "icm_19 = InterConfMedia(amostra=amostra_50)"
   ]
  },
  {
   "cell_type": "code",
   "execution_count": 26,
   "id": "e203576a-a558-48f3-b284-b3288c92cf3c",
   "metadata": {},
   "outputs": [],
   "source": [
    "icm_19.v_media = 57.2"
   ]
  },
  {
   "cell_type": "code",
   "execution_count": 27,
   "id": "b8d78baa-c592-4cce-aea9-a1b4a0f20de7",
   "metadata": {},
   "outputs": [],
   "source": [
    "icm_19.v_dvp = 7.1"
   ]
  },
  {
   "cell_type": "code",
   "execution_count": 28,
   "id": "d77cda46-b88f-4e5e-bf91-4ec3abd8d7e7",
   "metadata": {},
   "outputs": [
    {
     "data": {
      "text/plain": [
       "1.556342025391591"
      ]
     },
     "execution_count": 28,
     "metadata": {},
     "output_type": "execute_result"
    }
   ],
   "source": [
    "icm_19.margemErro(zc=1.55)"
   ]
  },
  {
   "cell_type": "code",
   "execution_count": 29,
   "id": "1cef814d-a67e-4d34-a699-213207ad2ef9",
   "metadata": {},
   "outputs": [
    {
     "data": {
      "text/plain": [
       "55.64365797460841"
      ]
     },
     "execution_count": 29,
     "metadata": {},
     "output_type": "execute_result"
    }
   ],
   "source": [
    "57.2-1.556342025391591"
   ]
  },
  {
   "cell_type": "code",
   "execution_count": 30,
   "id": "24b458ca-281f-4906-882f-c8fc7a394fe9",
   "metadata": {},
   "outputs": [
    {
     "data": {
      "text/plain": [
       "58.7563420253916"
      ]
     },
     "execution_count": 30,
     "metadata": {},
     "output_type": "execute_result"
    }
   ],
   "source": [
    "57.2+1.556342025391591"
   ]
  },
  {
   "cell_type": "code",
   "execution_count": 31,
   "id": "bf7c20ac-ff0b-4d18-8d5c-6169189cf803",
   "metadata": {},
   "outputs": [],
   "source": [
    "# resposta da 19 é a letra C"
   ]
  },
  {
   "cell_type": "code",
   "execution_count": 32,
   "id": "3fa18c8d-c313-4080-b86b-4ce2942ac9d1",
   "metadata": {},
   "outputs": [
    {
     "data": {
      "text/plain": [
       "1.6517307301736561"
      ]
     },
     "execution_count": 32,
     "metadata": {},
     "output_type": "execute_result"
    }
   ],
   "source": [
    "icm_20 = icm_19\n",
    "icm_20.margemErro(zc=1.645)"
   ]
  },
  {
   "cell_type": "code",
   "execution_count": 33,
   "id": "5f10f718-bea8-4362-9f4f-73ea4769dda4",
   "metadata": {},
   "outputs": [
    {
     "data": {
      "text/plain": [
       "55.54826926982635"
      ]
     },
     "execution_count": 33,
     "metadata": {},
     "output_type": "execute_result"
    }
   ],
   "source": [
    "57.2-1.6517307301736561"
   ]
  },
  {
   "cell_type": "code",
   "execution_count": 34,
   "id": "86ac183e-a9fd-4b4e-b6f2-f4a21afa4a6d",
   "metadata": {},
   "outputs": [
    {
     "data": {
      "text/plain": [
       "58.85173073017366"
      ]
     },
     "execution_count": 34,
     "metadata": {},
     "output_type": "execute_result"
    }
   ],
   "source": [
    "57.2+1.6517307301736561"
   ]
  },
  {
   "cell_type": "code",
   "execution_count": 35,
   "id": "37ebc475-5494-4222-84ac-819641ef4141",
   "metadata": {},
   "outputs": [],
   "source": [
    "# reposta da 20 é a letra D"
   ]
  },
  {
   "cell_type": "code",
   "execution_count": 36,
   "id": "11326815-4c63-4956-8158-823cb791acb1",
   "metadata": {},
   "outputs": [
    {
     "data": {
      "text/plain": [
       "1.9680195933983988"
      ]
     },
     "execution_count": 36,
     "metadata": {},
     "output_type": "execute_result"
    }
   ],
   "source": [
    "# 21\n",
    "\n",
    "icm_21 = icm_19\n",
    "icm_21.margemErro(zc=1.96)"
   ]
  },
  {
   "cell_type": "code",
   "execution_count": 37,
   "id": "b7330e8c-d381-42f4-be58-12f0a41ca1bc",
   "metadata": {},
   "outputs": [
    {
     "data": {
      "text/plain": [
       "55.23198040660161"
      ]
     },
     "execution_count": 37,
     "metadata": {},
     "output_type": "execute_result"
    }
   ],
   "source": [
    "57.2-1.9680195933983988"
   ]
  },
  {
   "cell_type": "code",
   "execution_count": 38,
   "id": "8959e14c-ad5d-4855-8717-ab438499595b",
   "metadata": {},
   "outputs": [
    {
     "data": {
      "text/plain": [
       "59.1680195933984"
      ]
     },
     "execution_count": 38,
     "metadata": {},
     "output_type": "execute_result"
    }
   ],
   "source": [
    "57.2+1.9680195933983988"
   ]
  },
  {
   "cell_type": "code",
   "execution_count": 39,
   "id": "bfd86dd6-a6d6-4869-a79b-a619ef1c99af",
   "metadata": {},
   "outputs": [],
   "source": [
    "# resposta da 21 é a relaçao com a letra B"
   ]
  },
  {
   "cell_type": "code",
   "execution_count": 40,
   "id": "454f5df7-2a7d-4a1b-aae1-eb715b159dc3",
   "metadata": {},
   "outputs": [
    {
     "data": {
      "text/plain": [
       "2.339533496233811"
      ]
     },
     "execution_count": 40,
     "metadata": {},
     "output_type": "execute_result"
    }
   ],
   "source": [
    "# 22\n",
    "\n",
    "icm_22 = icm_19\n",
    "icm_22.margemErro(zc=2.33)"
   ]
  },
  {
   "cell_type": "code",
   "execution_count": 41,
   "id": "adc6ee04-1bbd-46ac-9db6-607b8d18f099",
   "metadata": {},
   "outputs": [
    {
     "data": {
      "text/plain": [
       "54.86046650376619"
      ]
     },
     "execution_count": 41,
     "metadata": {},
     "output_type": "execute_result"
    }
   ],
   "source": [
    "57.2-2.339533496233811"
   ]
  },
  {
   "cell_type": "code",
   "execution_count": 42,
   "id": "13c39958-b797-4597-b57f-f6c87f8398df",
   "metadata": {},
   "outputs": [
    {
     "data": {
      "text/plain": [
       "59.539533496233815"
      ]
     },
     "execution_count": 42,
     "metadata": {},
     "output_type": "execute_result"
    }
   ],
   "source": [
    "57.2+2.339533496233811"
   ]
  },
  {
   "cell_type": "code",
   "execution_count": 43,
   "id": "ca8db461-9df5-42c4-ab52-977e06cd3e67",
   "metadata": {},
   "outputs": [],
   "source": [
    "# a relação da 22 é a letra A"
   ]
  },
  {
   "cell_type": "code",
   "execution_count": 44,
   "id": "d13d9496-6be1-487a-95d8-802a79920ba8",
   "metadata": {},
   "outputs": [],
   "source": [
    "# construir intervalo de confiança do 23 ao 26"
   ]
  },
  {
   "cell_type": "code",
   "execution_count": 45,
   "id": "6f459a64-9aaa-4b64-a9cf-642b080ceea3",
   "metadata": {},
   "outputs": [
    {
     "name": "stdout",
     "output_type": "stream",
     "text": [
      "14.77526282636592 15.2 15.62473717363408\n"
     ]
    }
   ],
   "source": [
    "am = list(range(60))\n",
    "icm_23 = InterConfMedia(amostra=am)\n",
    "icm_23.v_media = 15.2\n",
    "icm_23.v_dvp = 2\n",
    "icm_23.margemErro(zc=1.645)\n",
    "icm_23.interConf()"
   ]
  },
  {
   "cell_type": "code",
   "execution_count": 46,
   "id": "6a7c3b41-cdbd-4822-8c96-2f5e9bd64e10",
   "metadata": {},
   "outputs": [
    {
     "name": "stdout",
     "output_type": "stream",
     "text": [
      "31.21684336711464 31.39 31.56315663288536\n"
     ]
    }
   ],
   "source": [
    "am = list(range(82))\n",
    "icm_24 = InterConfMedia(amostra=am)\n",
    "icm_24.v_media = 31.39\n",
    "icm_24.v_dvp = 0.8\n",
    "icm_24.margemErro(zc=1.96)\n",
    "icm_24.interConf()"
   ]
  },
  {
   "cell_type": "code",
   "execution_count": 47,
   "id": "8652668a-0c77-402d-9c94-eedc04dc38b3",
   "metadata": {},
   "outputs": [
    {
     "name": "stdout",
     "output_type": "stream",
     "text": [
      "4.179269630222289 4.27 4.36073036977771\n"
     ]
    }
   ],
   "source": [
    "am = list(range(42))\n",
    "icm_23 = InterConfMedia(amostra=am)\n",
    "icm_23.v_media = 4.27\n",
    "icm_23.v_dvp = 0.3\n",
    "icm_23.margemErro(zc=1.96)\n",
    "icm_23.interConf()"
   ]
  },
  {
   "cell_type": "code",
   "execution_count": 48,
   "id": "1a39bebb-a020-44a3-a2d2-61b84231603b",
   "metadata": {},
   "outputs": [
    {
     "name": "stdout",
     "output_type": "stream",
     "text": [
      "13.11375 13.5 13.88625\n"
     ]
    }
   ],
   "source": [
    "am = list(range(100))\n",
    "icm_23 = InterConfMedia(amostra=am)\n",
    "icm_23.v_media = 13.5\n",
    "icm_23.v_dvp = 1.5\n",
    "icm_23.margemErro(zc=2.575)\n",
    "icm_23.interConf()"
   ]
  },
  {
   "cell_type": "code",
   "execution_count": 49,
   "id": "857f9ec9-f876-4228-8347-f4ee3300c96b",
   "metadata": {},
   "outputs": [],
   "source": [
    "# do exercicio 27 ao 30 encontrar a margem de erro e a media amostral"
   ]
  },
  {
   "cell_type": "code",
   "execution_count": 50,
   "id": "3bdfd975-6011-4f9b-a87b-ac105c9fa6df",
   "metadata": {},
   "outputs": [
    {
     "data": {
      "text/plain": [
       "0.379"
      ]
     },
     "execution_count": 50,
     "metadata": {},
     "output_type": "execute_result"
    }
   ],
   "source": [
    "#27\n",
    "media = ((0.264+0.494)/2) \n",
    "media"
   ]
  },
  {
   "cell_type": "code",
   "execution_count": 51,
   "id": "71c4f898-efcd-43bd-bfbf-3905e37f3344",
   "metadata": {},
   "outputs": [
    {
     "data": {
      "text/plain": [
       "0.11499999999999999"
      ]
     },
     "execution_count": 51,
     "metadata": {},
     "output_type": "execute_result"
    }
   ],
   "source": [
    "margem_erro = 0.494 - media\n",
    "margem_erro"
   ]
  },
  {
   "cell_type": "code",
   "execution_count": 52,
   "id": "6e466e50-972a-4f96-ae5b-cd08075c623d",
   "metadata": {},
   "outputs": [
    {
     "data": {
      "text/plain": [
       "3.16"
      ]
     },
     "execution_count": 52,
     "metadata": {},
     "output_type": "execute_result"
    }
   ],
   "source": [
    "#28\n",
    "media28 = ((3.144+3.176)/2)\n",
    "media28"
   ]
  },
  {
   "cell_type": "code",
   "execution_count": 53,
   "id": "8e96ae01-ac61-42f3-8a1b-cf8ba1e28522",
   "metadata": {},
   "outputs": [
    {
     "data": {
      "text/plain": [
       "0.016000000000000014"
      ]
     },
     "execution_count": 53,
     "metadata": {},
     "output_type": "execute_result"
    }
   ],
   "source": [
    "margem_erro28 = 3.176 - media28\n",
    "margem_erro28"
   ]
  },
  {
   "cell_type": "code",
   "execution_count": 54,
   "id": "561f089a-3083-40c5-958c-4afa9ca51083",
   "metadata": {},
   "outputs": [
    {
     "data": {
      "text/plain": [
       "1.88"
      ]
     },
     "execution_count": 54,
     "metadata": {},
     "output_type": "execute_result"
    }
   ],
   "source": [
    "#29\n",
    "media29 = (1.71+2.05)/2\n",
    "media29"
   ]
  },
  {
   "cell_type": "code",
   "execution_count": 55,
   "id": "faf0739e-884a-47ac-b196-2dec73a1c129",
   "metadata": {},
   "outputs": [
    {
     "data": {
      "text/plain": [
       "0.16999999999999993"
      ]
     },
     "execution_count": 55,
     "metadata": {},
     "output_type": "execute_result"
    }
   ],
   "source": [
    "margem_erro29 = 2.05 - media29\n",
    "margem_erro29"
   ]
  },
  {
   "cell_type": "code",
   "execution_count": 56,
   "id": "5ffc99d7-0425-4d1f-bd08-c8ce7923f3e8",
   "metadata": {},
   "outputs": [
    {
     "data": {
      "text/plain": [
       "25.88"
      ]
     },
     "execution_count": 56,
     "metadata": {},
     "output_type": "execute_result"
    }
   ],
   "source": [
    "#30\n",
    "media30 = (21.61+30.15)/2\n",
    "media30"
   ]
  },
  {
   "cell_type": "code",
   "execution_count": 57,
   "id": "cbec612d-709d-4316-9dbd-aab799f9bb7c",
   "metadata": {},
   "outputs": [
    {
     "data": {
      "text/plain": [
       "4.27"
      ]
     },
     "execution_count": 57,
     "metadata": {},
     "output_type": "execute_result"
    }
   ],
   "source": [
    "margem_erro30 = 30.15 - media30\n",
    "margem_erro30"
   ]
  },
  {
   "cell_type": "code",
   "execution_count": 58,
   "id": "20760893-39f4-4a42-8356-234f184f6f33",
   "metadata": {},
   "outputs": [],
   "source": [
    "# exercicios do 31 ao 34\n",
    "\n",
    "#31\n",
    "tam_amostra31 = InterConfMedia()"
   ]
  },
  {
   "cell_type": "code",
   "execution_count": 59,
   "id": "3cf64d8a-2f76-4a39-a980-2a1213acf2b3",
   "metadata": {},
   "outputs": [
    {
     "data": {
      "text/plain": [
       "125.12659599999999"
      ]
     },
     "execution_count": 59,
     "metadata": {},
     "output_type": "execute_result"
    }
   ],
   "source": [
    "tam_amostra31.tamAmostra(zc=1.645, s=6.8, e=1)"
   ]
  },
  {
   "cell_type": "code",
   "execution_count": 60,
   "id": "10254976-4f9e-4282-bd2f-e9945b19feb6",
   "metadata": {},
   "outputs": [],
   "source": [
    "#32\n",
    "tam_amostra32 = InterConfMedia()"
   ]
  },
  {
   "cell_type": "code",
   "execution_count": 61,
   "id": "173cfd13-6913-43ef-86da-1788b8b5c2fd",
   "metadata": {},
   "outputs": [
    {
     "data": {
      "text/plain": [
       "24.010000000000005"
      ]
     },
     "execution_count": 61,
     "metadata": {},
     "output_type": "execute_result"
    }
   ],
   "source": [
    "tam_amostra32.tamAmostra(zc=1.96, s=2.5, e=1)"
   ]
  },
  {
   "cell_type": "code",
   "execution_count": 62,
   "id": "68043b55-dd14-42ed-b0ea-e694511d53dd",
   "metadata": {},
   "outputs": [],
   "source": [
    "#33\n",
    "tam_amostra33 = InterConfMedia()"
   ]
  },
  {
   "cell_type": "code",
   "execution_count": 63,
   "id": "cf237a14-0330-4020-a283-419405dfa12f",
   "metadata": {},
   "outputs": [
    {
     "data": {
      "text/plain": [
       "6.885375999999998"
      ]
     },
     "execution_count": 63,
     "metadata": {},
     "output_type": "execute_result"
    }
   ],
   "source": [
    "tam_amostra33.tamAmostra(zc=1.28, s=4.1, e=2)\n"
   ]
  },
  {
   "cell_type": "code",
   "execution_count": 64,
   "id": "441b6808-b9bd-48a9-9251-ebd488a515e7",
   "metadata": {},
   "outputs": [],
   "source": [
    "#34\n",
    "tam_amostra34 = InterConfMedia()"
   ]
  },
  {
   "cell_type": "code",
   "execution_count": 65,
   "id": "396d26ba-ae39-424d-81d0-dbefbee9be5b",
   "metadata": {},
   "outputs": [
    {
     "data": {
      "text/plain": [
       "138.45052225"
      ]
     },
     "execution_count": 65,
     "metadata": {},
     "output_type": "execute_result"
    }
   ],
   "source": [
    "tam_amostra34.tamAmostra(zc=2.33, s=10.1, e=2)"
   ]
  },
  {
   "cell_type": "code",
   "execution_count": 66,
   "id": "32c4ffb9-2f53-4239-88ea-c54a35b44f9e",
   "metadata": {},
   "outputs": [
    {
     "data": {
      "text/plain": [
       "96.04000000000002"
      ]
     },
     "execution_count": 66,
     "metadata": {},
     "output_type": "execute_result"
    }
   ],
   "source": [
    "# exemplo 6\n",
    "\n",
    "tam = InterConfMedia()\n",
    "tam.tamAmostra(zc=1.96, s=5, e=1)"
   ]
  },
  {
   "cell_type": "code",
   "execution_count": 67,
   "id": "d511f400-9d44-4268-865e-5a12390366f8",
   "metadata": {},
   "outputs": [
    {
     "name": "stdout",
     "output_type": "stream",
     "text": [
      "media amostral:2.8, margem de erro: 0.7000000000000002\n"
     ]
    }
   ],
   "source": [
    "# exercicios 35 ao 36 entrar a margem de erro e a media amostral\n",
    "\n",
    "#35\n",
    "extremo_esquerdo = 2.1\n",
    "extremo_direito = 3.5\n",
    "\n",
    "media = (extremo_direito+extremo_esquerdo)/2\n",
    "media\n",
    "\n",
    "margem_erro = extremo_direito - media\n",
    "margem_erro\n",
    "print(f'media amostral:{media}, margem de erro: {margem_erro}')"
   ]
  },
  {
   "cell_type": "code",
   "execution_count": 68,
   "id": "288d73df-b636-425e-aa5f-a31a324747f5",
   "metadata": {},
   "outputs": [
    {
     "name": "stdout",
     "output_type": "stream",
     "text": [
      "media amostral:63 - margem de erro: 18\n"
     ]
    }
   ],
   "source": [
    "#36\n",
    "\n",
    "extremo_esquerdo = 44.07\n",
    "extremo_direito = 80.97\n",
    "\n",
    "media = (extremo_direito+extremo_esquerdo)/2\n",
    "media\n",
    "\n",
    "margem_erro = extremo_direito - media\n",
    "margem_erro\n",
    "print(f'media amostral:{round(media)} - margem de erro: {round(margem_erro)}')"
   ]
  },
  {
   "cell_type": "code",
   "execution_count": 69,
   "id": "a8f80f11-77b6-4190-bb8f-d5f5ae5427f2",
   "metadata": {},
   "outputs": [
    {
     "name": "stdout",
     "output_type": "stream",
     "text": [
      "margem de erro com 90%: 16\n",
      "margem de erro com 95%: 20\n",
      "media: 631\n"
     ]
    }
   ],
   "source": [
    "# Construindo Intervalos de Confiança\n",
    "\n",
    "#37\n",
    "margem_erro37 = InterConfMedia(amostra=list(range(32)))\n",
    "media = margem_erro37.v_media = 630.90\n",
    "margem_erro37.v_dvp = 56.70\n",
    "\n",
    "m90 = margem_erro37.margemErro(zc=1.645)\n",
    "m95 = margem_erro37.margemErro(zc=1.96)\n",
    "print(f'margem de erro com 90%: {round(m90)}\\nmargem de erro com 95%: {round(m95)}\\nmedia: {round(media)}')"
   ]
  },
  {
   "cell_type": "code",
   "execution_count": 70,
   "id": "fa8e26c0-0e3c-4342-94e0-186678660344",
   "metadata": {},
   "outputs": [
    {
     "name": "stdout",
     "output_type": "stream",
     "text": [
      "margem de erro com 90%: 1\n",
      "margem de erro com 95%: 1\n",
      "media: 23\n"
     ]
    }
   ],
   "source": [
    "#38\n",
    "margem_erro38 = InterConfMedia(amostra=list(range(35)))\n",
    "media = margem_erro38.v_media = 23.20\n",
    "margem_erro38.v_dvp = 4.34\n",
    "\n",
    "m90 = margem_erro38.margemErro(zc=1.645)\n",
    "m95 = margem_erro38.margemErro(zc=1.96)\n",
    "print(f'margem de erro com 90%: {round(m90)}\\nmargem de erro com 95%: {round(m95)}\\nmedia: {round(media)}')"
   ]
  },
  {
   "cell_type": "code",
   "execution_count": 71,
   "id": "0c8ac7b1-d499-49cf-8e64-cac0e4cc5fc0",
   "metadata": {},
   "outputs": [
    {
     "name": "stdout",
     "output_type": "stream",
     "text": [
      "margem de erro com 90%: 12\n",
      "margem de erro com 95%: 15\n",
      "media: 99\n"
     ]
    }
   ],
   "source": [
    "#37\n",
    "margem_erro39 = InterConfMedia(amostra=list(range(31)))\n",
    "media = margem_erro39.v_media = 99.3\n",
    "margem_erro39.v_dvp = 41.5\n",
    "\n",
    "m90 = margem_erro39.margemErro(zc=1.645)\n",
    "m95 = margem_erro39.margemErro(zc=1.96)\n",
    "print(f'margem de erro com 90%: {round(m90)}\\nmargem de erro com 95%: {round(m95)}\\nmedia: {round(media)}')"
   ]
  },
  {
   "cell_type": "code",
   "execution_count": 72,
   "id": "96a3e5c4-1684-4e64-8768-63c6a932a2b4",
   "metadata": {},
   "outputs": [
    {
     "name": "stdout",
     "output_type": "stream",
     "text": [
      "margem de erro com 90%: 2\n",
      "margem de erro com 95%: 2\n",
      "media: 23\n"
     ]
    }
   ],
   "source": [
    "#40\n",
    "margem_erro40 = InterConfMedia(amostra=list(range(36)))\n",
    "media = margem_erro40.v_media = 23\n",
    "margem_erro40.v_dvp = 6.7\n",
    "\n",
    "m90 = margem_erro40.margemErro(zc=1.645)\n",
    "m95 = margem_erro40.margemErro(zc=1.96)\n",
    "print(f'margem de erro com 90%: {round(m90)}\\nmargem de erro com 95%: {round(m95)}\\nmedia: {round(media)}')"
   ]
  },
  {
   "cell_type": "code",
   "execution_count": 73,
   "id": "508bc31a-23f3-4d59-b283-c19e5f012631",
   "metadata": {
    "jp-MarkdownHeadingCollapsed": true
   },
   "outputs": [
    {
     "name": "stdout",
     "output_type": "stream",
     "text": [
      "114.57669381281123 120 125.42330618718877\n"
     ]
    }
   ],
   "source": [
    "#41\n",
    "\n",
    "margem_erro41 = InterConfMedia(amostra=list(range(40)))\n",
    "margem_erro41.v_media = 120\n",
    "margem_erro41.v_dvp = 17.50\n",
    "\n",
    "m90 = margem_erro41.margemErro(zc=1.96)\n",
    "margem_erro41.interConf()"
   ]
  },
  {
   "cell_type": "code",
   "execution_count": 74,
   "id": "0d894405-d006-41ff-be22-9d74e78f1fef",
   "metadata": {},
   "outputs": [
    {
     "name": "stdout",
     "output_type": "stream",
     "text": [
      "146.7082869043359 150 153.2917130956641\n"
     ]
    }
   ],
   "source": [
    "#42\n",
    "\n",
    "margem_erro42 = InterConfMedia(amostra=list(range(60)))\n",
    "margem_erro42.v_media = 150\n",
    "margem_erro42.v_dvp = 15.50\n",
    "margem_erro42.margemErro(zc=1.645)\n",
    "margem_erro42.interConf()"
   ]
  },
  {
   "cell_type": "code",
   "execution_count": 75,
   "id": "2f380769-2345-4012-bccd-64483baf2298",
   "metadata": {},
   "outputs": [
    {
     "name": "stdout",
     "output_type": "stream",
     "text": [
      "116.16514341858786 120 123.83485658141214\n"
     ]
    }
   ],
   "source": [
    "#43\n",
    "\n",
    "margem_erro43 = InterConfMedia(amostra=list(range(80)))\n",
    "margem_erro43.v_media = 120\n",
    "margem_erro43.v_dvp = 17.50\n",
    "margem_erro43.margemErro(zc=1.96)\n",
    "margem_erro43.interConf()"
   ]
  },
  {
   "cell_type": "code",
   "execution_count": 76,
   "id": "c92ee635-5380-45c4-9237-c42006fc41a0",
   "metadata": {},
   "outputs": [
    {
     "name": "stdout",
     "output_type": "stream",
     "text": [
      "145.19650023420422 150 154.80349976579578\n"
     ]
    }
   ],
   "source": [
    "#44\n",
    "\n",
    "margem_erro44 = InterConfMedia(amostra=list(range(40)))\n",
    "margem_erro44.v_media = 150\n",
    "margem_erro44.v_dvp = 15.50\n",
    "margem_erro44.margemErro(zc=1.96)\n",
    "margem_erro44.interConf()"
   ]
  },
  {
   "cell_type": "code",
   "execution_count": 77,
   "id": "54a4c03c-e347-4172-855a-65592e3166c1",
   "metadata": {},
   "outputs": [
    {
     "name": "stdout",
     "output_type": "stream",
     "text": [
      "3.0945388531287374 3.12 3.1454611468712628\n"
     ]
    }
   ],
   "source": [
    "#45\n",
    "\n",
    "margem_erro45 = InterConfMedia(amostra=list(range(48)))\n",
    "margem_erro45.v_media = 3.12\n",
    "margem_erro45.v_dvp = 0.09\n",
    "margem_erro45.margemErro(zc=1.96)\n",
    "margem_erro45.interConf()"
   ]
  },
  {
   "cell_type": "code",
   "execution_count": 78,
   "id": "250e1e77-4177-4f8e-b59e-dcb74e456002",
   "metadata": {},
   "outputs": [
    {
     "name": "stdout",
     "output_type": "stream",
     "text": [
      "97.7675822786249 107.05 116.3324177213751\n"
     ]
    }
   ],
   "source": [
    "#46\n",
    "\n",
    "margem_erro46 = InterConfMedia(amostra=list(range(61)))\n",
    "margem_erro46.v_media = 107.05\n",
    "margem_erro46.v_dvp = 28.10\n",
    "margem_erro46.margemErro(zc=2.58)\n",
    "margem_erro46.interConf()"
   ]
  },
  {
   "cell_type": "code",
   "execution_count": 79,
   "id": "1402e108-b1e1-4a2a-8403-1b7387fb57b5",
   "metadata": {},
   "outputs": [
    {
     "name": "stdout",
     "output_type": "stream",
     "text": [
      "3.1030259020858253 3.12 3.136974097914175\n"
     ]
    }
   ],
   "source": [
    "#47\n",
    "\n",
    "margem_erro47 = InterConfMedia(amostra=list(range(48)))\n",
    "margem_erro47.v_media = 3.12\n",
    "margem_erro47.v_dvp = 0.06\n",
    "margem_erro47.margemErro(zc=1.96)\n",
    "margem_erro47.interConf()"
   ]
  },
  {
   "cell_type": "code",
   "execution_count": 80,
   "id": "370f7730-ed26-4456-9007-2ad2e06ca972",
   "metadata": {},
   "outputs": [
    {
     "name": "stdout",
     "output_type": "stream",
     "text": [
      "96.31410761762668 107.05 117.78589238237332\n"
     ]
    }
   ],
   "source": [
    "#48\n",
    "\n",
    "margem_erro48 = InterConfMedia(amostra=list(range(61)))\n",
    "margem_erro48.v_media = 107.05\n",
    "margem_erro48.v_dvp = 32.50\n",
    "margem_erro48.margemErro(zc=2.58)\n",
    "margem_erro48.interConf()"
   ]
  },
  {
   "cell_type": "code",
   "execution_count": 81,
   "id": "40b05f59-73cd-408f-8245-ccca810e8939",
   "metadata": {},
   "outputs": [
    {
     "name": "stdout",
     "output_type": "stream",
     "text": [
      "146.7082869043359 150 153.2917130956641\n"
     ]
    }
   ],
   "source": [
    "#49\n",
    "\n",
    "margem_erro49 = InterConfMedia(amostra=list(range(60)))\n",
    "margem_erro49.v_media = 150\n",
    "margem_erro49.v_dvp = 15.50\n",
    "margem_erro49.margemErro(zc=1.645)\n",
    "margem_erro49.interConf()"
   ]
  },
  {
   "cell_type": "code",
   "execution_count": 82,
   "id": "a903b4f8-6d3a-42e9-a3ef-50fdd5d1e8c1",
   "metadata": {},
   "outputs": [
    {
     "data": {
      "text/plain": [
       "'\\ndescrevendo com eu formaria um intervalo de confiança\\n\\n1 - colatava uma amostra\\n2 - calcular media\\n3 - calcular desvio padrao\\n4 - calcular a margem de erro\\n5 - calcular intervalo de confiança\\n'"
      ]
     },
     "execution_count": 82,
     "metadata": {},
     "output_type": "execute_result"
    }
   ],
   "source": [
    "#50\n",
    "\n",
    "\"\"\"\n",
    "descrevendo com eu formaria um intervalo de confiança\n",
    "\n",
    "1 - colatava uma amostra\n",
    "2 - calcular media\n",
    "3 - calcular desvio padrao\n",
    "4 - calcular a margem de erro\n",
    "5 - calcular intervalo de confiança\n",
    "\"\"\""
   ]
  },
  {
   "cell_type": "code",
   "execution_count": 83,
   "id": "c8e30180-6ad2-43b8-9349-ba9636db63d7",
   "metadata": {},
   "outputs": [
    {
     "name": "stdout",
     "output_type": "stream",
     "text": [
      "-0.9992297033215136 0 0.9992297033215136\n"
     ]
    }
   ],
   "source": [
    "#51\n",
    "\n",
    "margem_erro51 = InterConfMedia(amostra=[11,9,8,10,10,9,7,11,11,7,6,9,10,8,10])\n",
    "margem_erro51.v_dvp = 1.5\n",
    "margem_erro51.margemErro(zc=2.58)\n",
    "margem_erro51.interConf()"
   ]
  },
  {
   "cell_type": "code",
   "execution_count": 84,
   "id": "e1dc9ceb-2a12-48b1-aa1b-f5fa06324440",
   "metadata": {},
   "outputs": [],
   "source": [
    "def intervaloConf(amostra:list, desvio=0, zc=1.96, media=media):\n",
    "    \"calcula o intervalo de confiança\"\n",
    "    inter = InterConfMedia(amostra=amostra)\n",
    "    inter.v_media = media\n",
    "    inter.v_dvp = desvio\n",
    "    inter.margemErro(zc=zc)\n",
    "    inter.interConf()"
   ]
  },
  {
   "cell_type": "code",
   "execution_count": 85,
   "id": "7f0412ae-63ab-4dbf-b02b-055daad4d393",
   "metadata": {},
   "outputs": [
    {
     "name": "stdout",
     "output_type": "stream",
     "text": [
      "8.429560906215546 9.066666666666666 9.703772427117787\n"
     ]
    }
   ],
   "source": [
    "#51\n",
    "\n",
    "media = np.mean([11,9,8,10,10,9,7,11,11,7,6,9,10,8,10])\n",
    "nivel90 = intervaloConf(amostra=list(range(15)), desvio=1.5, zc=1.645, media=media)\n",
    "nivel90"
   ]
  },
  {
   "cell_type": "code",
   "execution_count": 86,
   "id": "2061d748-f107-49db-86ff-cc6b53b3a924",
   "metadata": {},
   "outputs": [
    {
     "name": "stdout",
     "output_type": "stream",
     "text": [
      "8.067436963345152 9.066666666666666 10.065896369988181\n"
     ]
    }
   ],
   "source": [
    "nivel99 = intervaloConf(amostra=list(range(15)), desvio=1.5, zc=2.58, media=media)\n",
    "nivel99"
   ]
  },
  {
   "cell_type": "code",
   "execution_count": 87,
   "id": "2ccce328-dc20-45d0-b067-a24be0fd3060",
   "metadata": {},
   "outputs": [
    {
     "name": "stdout",
     "output_type": "stream",
     "text": [
      "1.4846189423370755 1.7 1.9153810576629244\n"
     ]
    }
   ],
   "source": [
    "#52\n",
    "\n",
    "nivel99 = intervaloConf(amostra=list(range(21)), desvio=0.6, zc=1.645, media=1.7)\n",
    "nivel99"
   ]
  },
  {
   "cell_type": "code",
   "execution_count": 88,
   "id": "063fba72-3b95-4581-9a92-2bbc1e56a521",
   "metadata": {},
   "outputs": [
    {
     "data": {
      "text/plain": [
       "88.51046399999998"
      ]
     },
     "execution_count": 88,
     "metadata": {},
     "output_type": "execute_result"
    }
   ],
   "source": [
    "#53\n",
    "\n",
    "qnt_amostra = InterConfMedia()\n",
    "qnt_amostra.tamAmostra(zc=1.96, s=4.8, e=1)\n"
   ]
  },
  {
   "cell_type": "code",
   "execution_count": 89,
   "id": "478d79df-b8cd-46b2-8184-cc75e54700ed",
   "metadata": {},
   "outputs": [
    {
     "data": {
      "text/plain": [
       "3.2616359999999993"
      ]
     },
     "execution_count": 89,
     "metadata": {},
     "output_type": "execute_result"
    }
   ],
   "source": [
    "#54\n",
    "\n",
    "qnt_amostra = InterConfMedia()\n",
    "qnt_amostra.tamAmostra(zc=2.58, s=1.4, e=2)"
   ]
  },
  {
   "cell_type": "code",
   "execution_count": 90,
   "id": "5b2d9846-700a-4790-97dc-fd340c994c92",
   "metadata": {
    "jp-MarkdownHeadingCollapsed": true
   },
   "outputs": [
    {
     "data": {
      "text/plain": [
       "84.86094399999999"
      ]
     },
     "execution_count": 90,
     "metadata": {},
     "output_type": "execute_result"
    }
   ],
   "source": [
    "#55\n",
    "\n",
    "#a\n",
    "qnt_amostra = InterConfMedia()\n",
    "qnt_amostra.tamAmostra(zc=1.645, s=2.8, e=0.5)"
   ]
  },
  {
   "cell_type": "code",
   "execution_count": 91,
   "id": "79cb1f58-28d0-44e1-9453-3825a5107db2",
   "metadata": {},
   "outputs": [
    {
     "data": {
      "text/plain": [
       "208.74470399999996"
      ]
     },
     "execution_count": 91,
     "metadata": {},
     "output_type": "execute_result"
    }
   ],
   "source": [
    "#b\n",
    "qnt_amostra = InterConfMedia()\n",
    "qnt_amostra.tamAmostra(zc=2.58, s=2.8, e=0.5)"
   ]
  },
  {
   "cell_type": "code",
   "execution_count": 92,
   "id": "d11ce646-a407-49ce-ad4f-ef1627873c6d",
   "metadata": {},
   "outputs": [
    {
     "data": {
      "text/plain": [
       "'\\npara um nivel de confiança maior requer uma amostra maior, \\nquanto maior o intervalo mais largo fica as extremidades\\n'"
      ]
     },
     "execution_count": 92,
     "metadata": {},
     "output_type": "execute_result"
    }
   ],
   "source": [
    "#c \n",
    "\"\"\"\n",
    "para um nivel de confiança maior requer uma amostra maior, \n",
    "quanto maior o intervalo mais largo fica as extremidades\n",
    "\"\"\"\n"
   ]
  },
  {
   "cell_type": "code",
   "execution_count": 93,
   "id": "25f27a30-05d8-4895-ae81-b8bf289c5872",
   "metadata": {},
   "outputs": [
    {
     "data": {
      "text/plain": [
       "3.896676"
      ]
     },
     "execution_count": 93,
     "metadata": {},
     "output_type": "execute_result"
    }
   ],
   "source": [
    "#56\n",
    "\n",
    "#a\n",
    "tam_amostra = InterConfMedia()\n",
    "tam_amostra.tamAmostra(zc=1.645, s=1.2, e=1)"
   ]
  },
  {
   "cell_type": "code",
   "execution_count": 94,
   "id": "bd644c95-93cd-4682-b14c-4af6f7ac5505",
   "metadata": {},
   "outputs": [
    {
     "data": {
      "text/plain": [
       "9.585216"
      ]
     },
     "execution_count": 94,
     "metadata": {},
     "output_type": "execute_result"
    }
   ],
   "source": [
    "#b\n",
    "tam_amostra = InterConfMedia()\n",
    "tam_amostra.tamAmostra(zc=2.58, s=1.2, e=1)"
   ]
  },
  {
   "cell_type": "code",
   "execution_count": 95,
   "id": "4cebc43d-356f-4634-993c-c9d535055474",
   "metadata": {},
   "outputs": [
    {
     "data": {
      "text/plain": [
       "' a opção b requer uma amostra maior devido ao nivel de confiança que quanto mais aumenta\\nmaior fica o intervalo de confiança'"
      ]
     },
     "execution_count": 95,
     "metadata": {},
     "output_type": "execute_result"
    }
   ],
   "source": [
    "#c\n",
    "\"\"\" a opção b requer uma amostra maior devido ao nivel de confiança que quanto mais aumenta\n",
    "maior fica o intervalo de confiança\"\"\""
   ]
  },
  {
   "cell_type": "code",
   "execution_count": 96,
   "id": "96756210-21c3-4a43-895a-52f857d6a9ac",
   "metadata": {},
   "outputs": [
    {
     "data": {
      "text/plain": [
       "31.281648999999998"
      ]
     },
     "execution_count": 96,
     "metadata": {},
     "output_type": "execute_result"
    }
   ],
   "source": [
    "#57\n",
    "\n",
    "#a\n",
    "tam_amostra = InterConfMedia()\n",
    "tam_amostra.tamAmostra(zc=1.645, s=0.85, e=0.25)"
   ]
  },
  {
   "cell_type": "code",
   "execution_count": 97,
   "id": "709d2b53-0d05-4b09-bb08-8db1f8ea0d1a",
   "metadata": {},
   "outputs": [
    {
     "data": {
      "text/plain": [
       "86.89346944444445"
      ]
     },
     "execution_count": 97,
     "metadata": {},
     "output_type": "execute_result"
    }
   ],
   "source": [
    "#b\n",
    "tam_amostra = InterConfMedia()\n",
    "tam_amostra.tamAmostra(zc=1.645, s=0.85, e=0.15)"
   ]
  },
  {
   "cell_type": "code",
   "execution_count": 98,
   "id": "b2228f14-a30e-4928-a5e8-673c72be292d",
   "metadata": {},
   "outputs": [
    {
     "data": {
      "text/plain": [
       "'\\na opção b requer uma amostra maior devido a margem de erro muito menor \\n'"
      ]
     },
     "execution_count": 98,
     "metadata": {},
     "output_type": "execute_result"
    }
   ],
   "source": [
    "#b\n",
    "\"\"\"\n",
    "a opção b requer uma amostra maior devido a margem de erro muito menor \n",
    "\"\"\""
   ]
  },
  {
   "cell_type": "code",
   "execution_count": 99,
   "id": "6632df6f-3a39-4ad5-b64e-ceb78a9e4439",
   "metadata": {},
   "outputs": [
    {
     "data": {
      "text/plain": [
       "34.5744"
      ]
     },
     "execution_count": 99,
     "metadata": {},
     "output_type": "execute_result"
    }
   ],
   "source": [
    "#58\n",
    "\n",
    "#a\n",
    "tam_amostra = InterConfMedia()\n",
    "tam_amostra.tamAmostra(zc=1.96, s=3, e=1)"
   ]
  },
  {
   "cell_type": "code",
   "execution_count": 100,
   "id": "8ebf7004-70bb-4215-8305-610f11be44ca",
   "metadata": {},
   "outputs": [
    {
     "data": {
      "text/plain": [
       "8.6436"
      ]
     },
     "execution_count": 100,
     "metadata": {},
     "output_type": "execute_result"
    }
   ],
   "source": [
    "#b\n",
    "tam_amostra = InterConfMedia()\n",
    "tam_amostra.tamAmostra(zc=1.96, s=3, e=2)"
   ]
  },
  {
   "cell_type": "code",
   "execution_count": 101,
   "id": "e561976f-9a7a-4c77-aa3b-4be3090f9170",
   "metadata": {},
   "outputs": [
    {
     "data": {
      "text/plain": [
       "' a opção a requer uma amostyra maior pois a margem de erro é muito menor\\n'"
      ]
     },
     "execution_count": 101,
     "metadata": {},
     "output_type": "execute_result"
    }
   ],
   "source": [
    "#b\n",
    "\"\"\" a opção a requer uma amostyra maior pois a margem de erro é muito menor\n",
    "\"\"\""
   ]
  },
  {
   "cell_type": "code",
   "execution_count": 102,
   "id": "f173dd3c-de5c-46bd-af19-8f3b5c78b198",
   "metadata": {},
   "outputs": [
    {
     "data": {
      "text/plain": [
       "15.366399999999999"
      ]
     },
     "execution_count": 102,
     "metadata": {},
     "output_type": "execute_result"
    }
   ],
   "source": [
    "#59\n",
    "\n",
    "#a\n",
    "tam_amostra = InterConfMedia()\n",
    "tam_amostra.tamAmostra(zc=1.96, s=0.25, e=0.125)"
   ]
  },
  {
   "cell_type": "code",
   "execution_count": 103,
   "id": "aff7804b-7c03-4253-91ac-89e10e6715f3",
   "metadata": {},
   "outputs": [
    {
     "data": {
      "text/plain": [
       "61.465599999999995"
      ]
     },
     "execution_count": 103,
     "metadata": {},
     "output_type": "execute_result"
    }
   ],
   "source": [
    "#b\n",
    "tam_amostra = InterConfMedia()\n",
    "tam_amostra.tamAmostra(zc=1.96, s=0.25, e=0.0625)"
   ]
  },
  {
   "cell_type": "code",
   "execution_count": 104,
   "id": "c61f5fd5-9fb9-4a3d-90d1-82d49f878e3e",
   "metadata": {},
   "outputs": [
    {
     "data": {
      "text/plain": [
       "'\\na opção b requer uma amostra maior pois a tolerancia de erro é muito menor\\nfazendo com que o intervalo de confiança seja mais estreito\\n'"
      ]
     },
     "execution_count": 104,
     "metadata": {},
     "output_type": "execute_result"
    }
   ],
   "source": [
    "#b\n",
    "\"\"\"\n",
    "a opção b requer uma amostra maior pois a tolerancia de erro é muito menor\n",
    "fazendo com que o intervalo de confiança seja mais estreito\n",
    "\"\"\""
   ]
  },
  {
   "cell_type": "code",
   "execution_count": 105,
   "id": "017cf046-f6a9-43af-a4a6-4f849bc9f82e",
   "metadata": {},
   "outputs": [
    {
     "data": {
      "text/plain": [
       "20.409134948096884"
      ]
     },
     "execution_count": 105,
     "metadata": {},
     "output_type": "execute_result"
    }
   ],
   "source": [
    "#60\n",
    "\n",
    "#a\n",
    "tam_amostra = InterConfMedia()\n",
    "tam_amostra.tamAmostra(zc=1.28, s=0.15, e=0.0425)"
   ]
  },
  {
   "cell_type": "code",
   "execution_count": 106,
   "id": "21510b90-e947-47c9-a18c-c4b0854f8dd2",
   "metadata": {},
   "outputs": [
    {
     "data": {
      "text/plain": [
       "81.63653979238754"
      ]
     },
     "execution_count": 106,
     "metadata": {},
     "output_type": "execute_result"
    }
   ],
   "source": [
    "#b\n",
    "tam_amostra = InterConfMedia()\n",
    "tam_amostra.tamAmostra(zc=1.28, s=0.15, e=0.02125)"
   ]
  },
  {
   "cell_type": "code",
   "execution_count": 107,
   "id": "a904c758-324d-47b8-a007-c7d46a02de6d",
   "metadata": {},
   "outputs": [
    {
     "data": {
      "text/plain": [
       "'\\na opção b requer uma amostra maior pois a tolerancia de erro é muito menor\\nfazendo com que o intervalo de confiança seja mais estreito\\n'"
      ]
     },
     "execution_count": 107,
     "metadata": {},
     "output_type": "execute_result"
    }
   ],
   "source": [
    "#b\n",
    "\"\"\"\n",
    "a opção b requer uma amostra maior pois a tolerancia de erro é muito menor\n",
    "fazendo com que o intervalo de confiança seja mais estreito\n",
    "\"\"\""
   ]
  },
  {
   "cell_type": "code",
   "execution_count": 108,
   "id": "7955e322-4512-486b-b9ec-478a86f63a02",
   "metadata": {},
   "outputs": [
    {
     "data": {
      "text/plain": [
       "41.6025"
      ]
     },
     "execution_count": 108,
     "metadata": {},
     "output_type": "execute_result"
    }
   ],
   "source": [
    "#61\n",
    "\n",
    "#a\n",
    "tam_amostra = InterConfMedia()\n",
    "tam_amostra.tamAmostra(zc=2.58, s=0.25, e=0.1)"
   ]
  },
  {
   "cell_type": "code",
   "execution_count": 109,
   "id": "b3ba811f-6f17-491a-855e-2a8e1e48c2de",
   "metadata": {},
   "outputs": [
    {
     "data": {
      "text/plain": [
       "59.9076"
      ]
     },
     "execution_count": 109,
     "metadata": {},
     "output_type": "execute_result"
    }
   ],
   "source": [
    "#b\n",
    "tam_amostra = InterConfMedia()\n",
    "tam_amostra.tamAmostra(zc=2.58, s=0.3, e=0.1)"
   ]
  },
  {
   "cell_type": "code",
   "execution_count": 110,
   "id": "e8e18121-278e-4041-a448-91d367212840",
   "metadata": {},
   "outputs": [
    {
     "data": {
      "text/plain": [
       "11.833600000000002"
      ]
     },
     "execution_count": 110,
     "metadata": {},
     "output_type": "execute_result"
    }
   ],
   "source": [
    "#62\n",
    "\n",
    "#a\n",
    "tam_amostra = InterConfMedia()\n",
    "tam_amostra.tamAmostra(zc=2.58, s=0.2, e=0.15)"
   ]
  },
  {
   "cell_type": "code",
   "execution_count": 111,
   "id": "729a33a7-886e-4299-ba6b-f956fb6bcc42",
   "metadata": {},
   "outputs": [
    {
     "data": {
      "text/plain": [
       "2.9584000000000006"
      ]
     },
     "execution_count": 111,
     "metadata": {},
     "output_type": "execute_result"
    }
   ],
   "source": [
    "tam_amostra = InterConfMedia()\n",
    "tam_amostra.tamAmostra(zc=2.58, s=0.1, e=0.15)"
   ]
  },
  {
   "cell_type": "code",
   "execution_count": 112,
   "id": "f6793840-4b71-452e-afcc-201c5946cfcd",
   "metadata": {},
   "outputs": [
    {
     "data": {
      "text/plain": [
       "'\\nletra c, quando se aumenta o desvio padrao o tamanho minimo para amostra tambem aumenta\\n'"
      ]
     },
     "execution_count": 112,
     "metadata": {},
     "output_type": "execute_result"
    }
   ],
   "source": [
    "#63\n",
    "\n",
    "\"\"\"\n",
    "letra c, quando se aumenta o desvio padrao o tamanho minimo para amostra tambem aumenta\n",
    "\"\"\""
   ]
  },
  {
   "cell_type": "code",
   "execution_count": 113,
   "id": "ef79e812-79c1-4fb1-85e6-89c7272c81f4",
   "metadata": {},
   "outputs": [
    {
     "name": "stdout",
     "output_type": "stream",
     "text": [
      "4.0 4.0 4.0\n"
     ]
    }
   ],
   "source": [
    "#65\n",
    "\n",
    "inter = InterConfMedia(amostra=[4,4])\n",
    "inter.dvp()\n",
    "inter.media()\n",
    "inter.margemErro()\n",
    "inter.interConf()"
   ]
  },
  {
   "cell_type": "code",
   "execution_count": 114,
   "id": "015a120d-6ecb-4505-bb0c-513bb2b77b08",
   "metadata": {},
   "outputs": [
    {
     "name": "stdout",
     "output_type": "stream",
     "text": [
      "3.6139817343017766 4.75 5.886018265698223\n"
     ]
    }
   ],
   "source": [
    "inter = InterConfMedia(amostra=[3,3,4,4,4,6,6,8])\n",
    "inter.dvp()\n",
    "inter.media()\n",
    "inter.margemErro()\n",
    "inter.interConf()"
   ]
  },
  {
   "cell_type": "code",
   "execution_count": 115,
   "id": "eaf60c0c-689a-456c-b968-a9c5bd34247b",
   "metadata": {},
   "outputs": [
    {
     "name": "stdout",
     "output_type": "stream",
     "text": [
      "6.868559800584258 7.875 8.881440199415742\n"
     ]
    }
   ],
   "source": [
    "inter = InterConfMedia(amostra=[6,6,6,9,9,9,9,9])\n",
    "inter.dvp()\n",
    "inter.media()\n",
    "inter.margemErro()\n",
    "inter.interConf()"
   ]
  },
  {
   "cell_type": "code",
   "execution_count": 116,
   "id": "a7319fac-ffe8-444a-9f61-b11da1891e5e",
   "metadata": {},
   "outputs": [
    {
     "name": "stdout",
     "output_type": "stream",
     "text": [
      "5.6823420596637995 7.4 9.117657940336201\n"
     ]
    }
   ],
   "source": [
    "inter = InterConfMedia(amostra=[5,5,9,9,9])\n",
    "inter.dvp()\n",
    "inter.media()\n",
    "inter.margemErro()\n",
    "inter.interConf()"
   ]
  },
  {
   "cell_type": "code",
   "execution_count": 117,
   "id": "370e16c7-f6ec-4d36-a440-24046cb091e5",
   "metadata": {},
   "outputs": [
    {
     "name": "stdout",
     "output_type": "stream",
     "text": [
      "3.6512951042912505 4.5 5.3487048957087495\n"
     ]
    }
   ],
   "source": [
    "inter = InterConfMedia(amostra=[3,3,4,4,4,6,6,6])\n",
    "inter.dvp()\n",
    "inter.media()\n",
    "inter.margemErro()\n",
    "inter.interConf()"
   ]
  },
  {
   "cell_type": "code",
   "execution_count": 118,
   "id": "35fe7a45-d443-42b7-a037-0f438749c6d0",
   "metadata": {},
   "outputs": [
    {
     "name": "stdout",
     "output_type": "stream",
     "text": [
      "1.0 1.0 1.0\n"
     ]
    }
   ],
   "source": [
    "#66\n",
    "\n",
    "inter = InterConfMedia(amostra=[1,1,1,1])\n",
    "inter.dvp()\n",
    "inter.media()\n",
    "inter.margemErro()\n",
    "inter.interConf()"
   ]
  },
  {
   "cell_type": "code",
   "execution_count": 119,
   "id": "b7001fad-797f-4f35-b9a7-76dfbbc94f30",
   "metadata": {},
   "outputs": [
    {
     "name": "stdout",
     "output_type": "stream",
     "text": [
      "6.868559800584258 7.875 8.881440199415742\n"
     ]
    }
   ],
   "source": [
    "inter = InterConfMedia(amostra=[6,6,6,9,9,9,9,9])\n",
    "inter.dvp()\n",
    "inter.media()\n",
    "inter.margemErro()\n",
    "inter.interConf()"
   ]
  },
  {
   "cell_type": "code",
   "execution_count": 120,
   "id": "535456b3-1b08-4c12-81a2-710b2787c6e8",
   "metadata": {},
   "outputs": [
    {
     "name": "stdout",
     "output_type": "stream",
     "text": [
      "4.0 4.0 4.0\n"
     ]
    }
   ],
   "source": [
    "inter = InterConfMedia(amostra=[4,4,4,4,4])\n",
    "inter.dvp()\n",
    "inter.media()\n",
    "inter.margemErro()\n",
    "inter.interConf()"
   ]
  },
  {
   "cell_type": "code",
   "execution_count": 121,
   "id": "78ec03f8-38ac-440e-97d0-332574d83076",
   "metadata": {},
   "outputs": [
    {
     "name": "stdout",
     "output_type": "stream",
     "text": [
      "8.01 8.5 8.99\n"
     ]
    }
   ],
   "source": [
    "inter = InterConfMedia(amostra=[8,8,9,9])\n",
    "inter.dvp()\n",
    "inter.media()\n",
    "inter.margemErro()\n",
    "inter.interConf()"
   ]
  },
  {
   "cell_type": "code",
   "execution_count": 122,
   "id": "1128786c-3445-4789-9a94-fe54eb543388",
   "metadata": {},
   "outputs": [
    {
     "name": "stdout",
     "output_type": "stream",
     "text": [
      "2.9705855149159497 3.4 3.82941448508405\n"
     ]
    }
   ],
   "source": [
    "inter = InterConfMedia(amostra=[3,3,3,4,4])\n",
    "inter.dvp()\n",
    "inter.media()\n",
    "inter.margemErro()\n",
    "inter.interConf()"
   ]
  },
  {
   "cell_type": "code",
   "execution_count": 123,
   "id": "e350bddf-4fd2-4094-b86d-27fb96415f4a",
   "metadata": {},
   "outputs": [
    {
     "name": "stdout",
     "output_type": "stream",
     "text": [
      "9.0 9.0 9.0\n"
     ]
    }
   ],
   "source": [
    "inter = InterConfMedia(amostra=[9,9,9,9])\n",
    "inter.dvp()\n",
    "inter.media()\n",
    "inter.margemErro()\n",
    "inter.interConf()"
   ]
  },
  {
   "cell_type": "code",
   "execution_count": 124,
   "id": "baa7ffdc-e9c1-4ca8-885a-5b6c272449cc",
   "metadata": {},
   "outputs": [
    {
     "name": "stdout",
     "output_type": "stream",
     "text": [
      "5.0 5.0 5.0\n"
     ]
    }
   ],
   "source": [
    "inter = InterConfMedia(amostra=[5,5,5,5])\n",
    "inter.dvp()\n",
    "inter.media()\n",
    "inter.margemErro()\n",
    "inter.interConf()"
   ]
  },
  {
   "cell_type": "code",
   "execution_count": 125,
   "id": "8e3799a2-5e68-439d-ae12-44bc071e0509",
   "metadata": {},
   "outputs": [
    {
     "name": "stdout",
     "output_type": "stream",
     "text": [
      "9.0 9.0 9.0\n"
     ]
    }
   ],
   "source": [
    "inter = InterConfMedia(amostra=[9,9])\n",
    "inter.dvp()\n",
    "inter.media()\n",
    "inter.margemErro()\n",
    "inter.interConf()"
   ]
  },
  {
   "cell_type": "code",
   "execution_count": 126,
   "id": "13fe05ea-56a3-41e2-aa72-43b7a117cfc2",
   "metadata": {},
   "outputs": [
    {
     "name": "stdout",
     "output_type": "stream",
     "text": [
      "4.0 4.0 4.0\n"
     ]
    }
   ],
   "source": [
    "inter = InterConfMedia(amostra=[4])\n",
    "inter.dvp()\n",
    "inter.media()\n",
    "inter.margemErro()\n",
    "inter.interConf()"
   ]
  },
  {
   "cell_type": "code",
   "execution_count": 127,
   "id": "da4a6d72-1b60-445f-9d65-055a80babb92",
   "metadata": {},
   "outputs": [
    {
     "name": "stdout",
     "output_type": "stream",
     "text": [
      "14.86805051731062 15.76241379310345 16.656777068896282\n"
     ]
    }
   ],
   "source": [
    "#67\n",
    "\n",
    "amostra = [13.24, 16.13, 16.10, 19.27, 16.50, 12.25,19.16,\n",
    "           12.08,13.09,13.42,14.54,15.51,14.74,19.17,17.68,\n",
    "           14.97,15.51,14.93,17.31,16.69,13.12,11.65,18.30,\n",
    "           14.37,12.57,18.79,16.68,19.53,19.81]\n",
    "inter = InterConfMedia(amostra=amostra)\n",
    "inter.dvp()\n",
    "inter.media()\n",
    "inter.margemErro()\n",
    "inter.interConf()"
   ]
  },
  {
   "cell_type": "code",
   "execution_count": 128,
   "id": "ad444ab1-a2a8-4625-8904-482354eb7580",
   "metadata": {},
   "outputs": [
    {
     "name": "stdout",
     "output_type": "stream",
     "text": [
      "15.233322719891412 16.656060606060606 18.0787984922298\n"
     ]
    }
   ],
   "source": [
    " #68\n",
    "\n",
    "amostra = [18.31,19.87,19.76,17.10,19.06,14.93,9.08,20.66,12.29,\n",
    "           20.14,24.38,22.15,24.25,13.67,20.80,14.30,7.39,20.09,\n",
    "           9.93,14.97,17.13,10.44,22.06,19.25,14.92,13.05,14.17,\n",
    "           15.46,16.27,15.23,13.43,17.62,17.49]\n",
    "inter = InterConfMedia(amostra=amostra)\n",
    "inter.dvp()\n",
    "inter.media()\n",
    "inter.margemErro()\n",
    "inter.interConf()"
   ]
  },
  {
   "cell_type": "code",
   "execution_count": 129,
   "id": "d22297a3-9914-46b0-bbf6-e293545749cb",
   "metadata": {},
   "outputs": [],
   "source": [
    "def fatorCorrecao(N, n):\n",
    "    fator_correcao = ((N - n)/(N-1))**0.5\n",
    "    print(fator_correcao)\n",
    "    "
   ]
  },
  {
   "cell_type": "code",
   "execution_count": 130,
   "id": "90a3c8da-80f1-49ba-a892-3b26eaec0840",
   "metadata": {},
   "outputs": [
    {
     "name": "stdout",
     "output_type": "stream",
     "text": [
      "0.7074605999633482\n"
     ]
    }
   ],
   "source": [
    "#a\n",
    "fatorCorrecao(N=1000, n=500)"
   ]
  },
  {
   "cell_type": "code",
   "execution_count": 131,
   "id": "02e81d6a-e51c-4e80-8931-5f4700c44a30",
   "metadata": {},
   "outputs": [
    {
     "name": "stdout",
     "output_type": "stream",
     "text": [
      "0.949157995752499\n"
     ]
    }
   ],
   "source": [
    "#b\n",
    "fatorCorrecao(N=1000,n=100)"
   ]
  },
  {
   "cell_type": "code",
   "execution_count": 132,
   "id": "e4079fb7-f3cc-4679-9c99-c831d1c076da",
   "metadata": {},
   "outputs": [
    {
     "name": "stdout",
     "output_type": "stream",
     "text": [
      "0.9622504486493763\n"
     ]
    }
   ],
   "source": [
    "#c\n",
    "fatorCorrecao(N=1000,n=75)"
   ]
  },
  {
   "cell_type": "code",
   "execution_count": 133,
   "id": "dd0d94fa-c3d7-4655-9dac-899fff7626eb",
   "metadata": {},
   "outputs": [
    {
     "name": "stdout",
     "output_type": "stream",
     "text": [
      "0.9751671400077788\n"
     ]
    }
   ],
   "source": [
    "#d\n",
    "fatorCorrecao(N=1000,n=50)"
   ]
  },
  {
   "cell_type": "code",
   "execution_count": 134,
   "id": "42f7a9e9-ff58-4f45-8e35-3908443c9f7e",
   "metadata": {},
   "outputs": [
    {
     "data": {
      "text/plain": [
       "'\\nconforme o tamanho da amostra diminui o fator de correção aumenta\\n'"
      ]
     },
     "execution_count": 134,
     "metadata": {},
     "output_type": "execute_result"
    }
   ],
   "source": [
    "#e\n",
    "\"\"\"\n",
    "conforme o tamanho da amostra diminui o fator de correção aumenta\n",
    "\"\"\""
   ]
  },
  {
   "cell_type": "code",
   "execution_count": 135,
   "id": "ac450096-1876-46fa-901c-bc764f6cbd63",
   "metadata": {},
   "outputs": [
    {
     "name": "stdout",
     "output_type": "stream",
     "text": [
      "0.7106690545187014\n"
     ]
    }
   ],
   "source": [
    "#70\n",
    "\n",
    "#a\n",
    "fatorCorrecao(N=100,n=50)"
   ]
  },
  {
   "cell_type": "code",
   "execution_count": 136,
   "id": "3fee1879-00d8-430e-a7d7-81be72704f1b",
   "metadata": {},
   "outputs": [
    {
     "name": "stdout",
     "output_type": "stream",
     "text": [
      "0.936585811581694\n"
     ]
    }
   ],
   "source": [
    "#b\n",
    "fatorCorrecao(N=400,n=50)"
   ]
  },
  {
   "cell_type": "code",
   "execution_count": 137,
   "id": "567b4961-a1fc-43c0-83ce-24939a096f78",
   "metadata": {},
   "outputs": [
    {
     "name": "stdout",
     "output_type": "stream",
     "text": [
      "0.9643131529427997\n"
     ]
    }
   ],
   "source": [
    "#c\n",
    "fatorCorrecao(N=700,n=50)"
   ]
  },
  {
   "cell_type": "code",
   "execution_count": 138,
   "id": "69bcfdb5-056b-485c-bcae-92996f6a85b4",
   "metadata": {},
   "outputs": [
    {
     "name": "stdout",
     "output_type": "stream",
     "text": [
      "0.9751671400077788\n"
     ]
    }
   ],
   "source": [
    "#d\n",
    "fatorCorrecao(N=1000,n=50)"
   ]
  },
  {
   "cell_type": "code",
   "execution_count": 139,
   "id": "3ed6d90e-2dd7-42a2-ab16-b0f4d3041e87",
   "metadata": {},
   "outputs": [
    {
     "data": {
      "text/plain": [
       "'\\nconforme o tamanho da populacao aumenta o fator de correçaõ tambem aumenta\\n'"
      ]
     },
     "execution_count": 139,
     "metadata": {},
     "output_type": "execute_result"
    }
   ],
   "source": [
    "#e\n",
    "\"\"\"\n",
    "conforme o tamanho da populacao aumenta o fator de correçaõ tambem aumenta\n",
    "\"\"\""
   ]
  },
  {
   "cell_type": "code",
   "execution_count": null,
   "id": "e529ed86-57c3-46ae-a22d-7820afe0d9c7",
   "metadata": {},
   "outputs": [],
   "source": []
  },
  {
   "cell_type": "code",
   "execution_count": null,
   "id": "59408170-b911-45f3-8553-629282f6fdb2",
   "metadata": {},
   "outputs": [],
   "source": []
  },
  {
   "cell_type": "code",
   "execution_count": null,
   "id": "ba9cca61-0154-4de4-9e24-298905c49b63",
   "metadata": {},
   "outputs": [],
   "source": []
  },
  {
   "cell_type": "code",
   "execution_count": null,
   "id": "01731dbc-35e1-43b9-bcef-6e1694458826",
   "metadata": {},
   "outputs": [],
   "source": []
  },
  {
   "cell_type": "code",
   "execution_count": null,
   "id": "73ceb3d1-a71f-43db-9eda-428d47bfc60b",
   "metadata": {},
   "outputs": [],
   "source": []
  },
  {
   "cell_type": "code",
   "execution_count": null,
   "id": "1d03e023-3381-4ff7-b472-19fb623252ca",
   "metadata": {},
   "outputs": [],
   "source": []
  }
 ],
 "metadata": {
  "kernelspec": {
   "display_name": "Python 3 (ipykernel)",
   "language": "python",
   "name": "python3"
  },
  "language_info": {
   "codemirror_mode": {
    "name": "ipython",
    "version": 3
   },
   "file_extension": ".py",
   "mimetype": "text/x-python",
   "name": "python",
   "nbconvert_exporter": "python",
   "pygments_lexer": "ipython3",
   "version": "3.10.12"
  }
 },
 "nbformat": 4,
 "nbformat_minor": 5
}
